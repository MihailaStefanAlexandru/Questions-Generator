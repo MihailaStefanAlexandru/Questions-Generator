{
  "cells": [
    {
      "cell_type": "markdown",
      "metadata": {
        "id": "J9ucbwk7Yu4G"
      },
      "source": [
        "# Generator de întrebări în funcție de dificultate"
      ]
    },
    {
      "cell_type": "markdown",
      "source": [
        "### Biblioteci"
      ],
      "metadata": {
        "id": "hnZgcsU1Z42F"
      }
    },
    {
      "cell_type": "code",
      "execution_count": 77,
      "metadata": {
        "id": "_Q1ZSRRYYu4I"
      },
      "outputs": [],
      "source": [
        "# %pip install matplotlib\n",
        "# %pip install pandas\n",
        "# %pip install numpy\n",
        "# %pip install scipy\n",
        "# %pip install nltk\n",
        "# %pip install scikit-learn\n",
        "# %pip install seaborn\n",
        "# %pip install transformers"
      ]
    },
    {
      "cell_type": "markdown",
      "source": [
        "### Citire Date"
      ],
      "metadata": {
        "id": "5MhwMBCJZ9k6"
      }
    },
    {
      "cell_type": "code",
      "source": [
        "import pandas as pd\n",
        "\n",
        "with open(\"dataset.txt\", \"r\", encoding=\"utf-8\") as f:\n",
        "    lines = f.readlines()\n",
        "\n",
        "context_text = \"\".join(lines[1:]).strip()"
      ],
      "metadata": {
        "collapsed": true,
        "id": "dU8PBngDaXKC"
      },
      "execution_count": 78,
      "outputs": []
    },
    {
      "cell_type": "markdown",
      "source": [
        "### Generare Întrebări"
      ],
      "metadata": {
        "id": "ToBwErLhcSTA"
      }
    },
    {
      "cell_type": "code",
      "source": [
        "from transformers import T5ForConditionalGeneration, T5Tokenizer\n",
        "import torch\n",
        "\n",
        "model_name = \"valhalla/t5-base-e2e-qg\"\n",
        "tokenizer = T5Tokenizer.from_pretrained(model_name)\n",
        "model = T5ForConditionalGeneration.from_pretrained(model_name)"
      ],
      "metadata": {
        "id": "Q1lIPzzLcXdX"
      },
      "execution_count": 79,
      "outputs": []
    },
    {
      "cell_type": "code",
      "source": [
        "import nltk\n",
        "from nltk.tokenize import sent_tokenize\n",
        "\n",
        "nltk.download('punkt')\n",
        "nltk.download('punkt_tab')"
      ],
      "metadata": {
        "colab": {
          "base_uri": "https://localhost:8080/"
        },
        "id": "Sd8K8cv-u6z5",
        "outputId": "874d7422-68d2-4338-98f0-b688565cd30a"
      },
      "execution_count": 80,
      "outputs": [
        {
          "output_type": "stream",
          "name": "stderr",
          "text": [
            "[nltk_data] Downloading package punkt to /root/nltk_data...\n",
            "[nltk_data]   Package punkt is already up-to-date!\n",
            "[nltk_data] Downloading package punkt_tab to /root/nltk_data...\n",
            "[nltk_data]   Package punkt_tab is already up-to-date!\n"
          ]
        },
        {
          "output_type": "execute_result",
          "data": {
            "text/plain": [
              "True"
            ]
          },
          "metadata": {},
          "execution_count": 80
        }
      ]
    },
    {
      "cell_type": "code",
      "source": [
        "sentences = sent_tokenize(context_text)\n",
        "\n",
        "chunk_size = 2\n",
        "chunks = [\" \".join(sentences[i:i + chunk_size]) for i in range(0, len(sentences), chunk_size)]\n",
        "\n",
        "all_questions = []\n",
        "\n",
        "for idx, chunk in enumerate(chunks, 1):\n",
        "\n",
        "    input_text = \"generate questions: \" + chunk\n",
        "    input_ids = tokenizer.encode(input_text, return_tensors=\"pt\", truncation=True)\n",
        "\n",
        "    output_ids = model.generate(\n",
        "        input_ids=input_ids,\n",
        "        max_length=256,\n",
        "        num_beams=4,\n",
        "        length_penalty=1.5,\n",
        "        no_repeat_ngram_size=3,\n",
        "        early_stopping=True\n",
        "    )\n",
        "\n",
        "    decoded = tokenizer.decode(output_ids[0], skip_special_tokens=True)\n",
        "    questions = decoded.split(\"<sep>\") if \"<sep>\" in decoded else [decoded]\n",
        "\n",
        "    for q in questions:\n",
        "      # ignora intrebarile goale\n",
        "      q_add = q.strip()\n",
        "      if not q_add:\n",
        "        continue\n",
        "      all_questions.append({\n",
        "          \"context\": chunk,\n",
        "          \"question\": q_add\n",
        "      })"
      ],
      "metadata": {
        "id": "yb_eoLohc-Xt"
      },
      "execution_count": 81,
      "outputs": []
    },
    {
      "cell_type": "code",
      "source": [
        "print(\"\\nTotal întrebări generate:\", len(all_questions))\n",
        "print(\"\\nExemplu:\")\n",
        "print(all_questions[0])"
      ],
      "metadata": {
        "colab": {
          "base_uri": "https://localhost:8080/"
        },
        "id": "3lndHOGQwunF",
        "outputId": "567c0b00-98dc-484c-e38e-01c569fa5048"
      },
      "execution_count": 82,
      "outputs": [
        {
          "output_type": "stream",
          "name": "stdout",
          "text": [
            "\n",
            "Total întrebări generate: 122\n",
            "\n",
            "Exemplu:\n",
            "{'context': 'In this book, we’ll use the public Internet, a specific computer network, as our principal\\nvehicle for discussing computer networks and their protocols. But what is the\\nInternet?', 'question': 'What is the name of the computer network discussed in this book?'}\n"
          ]
        }
      ]
    },
    {
      "cell_type": "markdown",
      "source": [
        "### Euristică"
      ],
      "metadata": {
        "id": "xzgbeL09BhQe"
      }
    },
    {
      "cell_type": "code",
      "source": [
        "from nltk.corpus import stopwords, wordnet as wn\n",
        "from sentence_transformers import SentenceTransformer, util\n",
        "import nltk\n",
        "from nltk.tokenize import word_tokenize\n",
        "import string\n",
        "\n",
        "nltk.download('wordnet')\n",
        "nltk.download('stopwords')"
      ],
      "metadata": {
        "colab": {
          "base_uri": "https://localhost:8080/"
        },
        "id": "47o9Ohes-DMr",
        "outputId": "005cf27d-70c9-4bff-9fbb-d2e40aecf6fd"
      },
      "execution_count": 83,
      "outputs": [
        {
          "output_type": "stream",
          "name": "stderr",
          "text": [
            "[nltk_data] Downloading package wordnet to /root/nltk_data...\n",
            "[nltk_data]   Package wordnet is already up-to-date!\n",
            "[nltk_data] Downloading package stopwords to /root/nltk_data...\n",
            "[nltk_data]   Package stopwords is already up-to-date!\n"
          ]
        },
        {
          "output_type": "execute_result",
          "data": {
            "text/plain": [
              "True"
            ]
          },
          "metadata": {},
          "execution_count": 83
        }
      ]
    },
    {
      "cell_type": "code",
      "source": [
        "heuristic_model = SentenceTransformer('all-MiniLM-L6-v2')\n",
        "\n",
        "def ambiguity_score(question):\n",
        "    stop_words = set(stopwords.words('english'))\n",
        "    tokens = word_tokenize(question.lower())\n",
        "\n",
        "    # eliminare semne de punctuatie si stopwords\n",
        "    filtered_tokens = [\n",
        "        t for t in tokens\n",
        "        if t not in stop_words and t not in string.punctuation\n",
        "    ]\n",
        "\n",
        "    # calculam numarul de sensuri pentru fiecare cuvant valid\n",
        "    senses = [len(wn.synsets(t)) for t in filtered_tokens if wn.synsets(t)]\n",
        "\n",
        "    if senses:\n",
        "        avg_senses = sum(senses) / len(senses)\n",
        "    else:\n",
        "        # caz in care nu exista cuvinte semnificative\n",
        "        avg_senses = 0\n",
        "\n",
        "    return avg_senses"
      ],
      "metadata": {
        "id": "2uRtHzGm-J4t"
      },
      "execution_count": 84,
      "outputs": []
    },
    {
      "cell_type": "code",
      "source": [
        "def semantic_similarity(context, question):\n",
        "\n",
        "    embeddings = heuristic_model.encode([context, question], convert_to_tensor=True)\n",
        "    score = util.cos_sim(embeddings[0], embeddings[1])\n",
        "    return float(score)"
      ],
      "metadata": {
        "id": "-muswd3o-PJ2"
      },
      "execution_count": 85,
      "outputs": []
    },
    {
      "cell_type": "code",
      "source": [
        "context = \"\"\"\n",
        "The Internet is a computer network that interconnects millions of computing devices throughout the world. These devices include not just traditional PCs, but also smartphones, tablets, TVs, and even home appliances. End systems are connected by communication links and packet switches. The Internet uses protocols like TCP and IP to transfer information between devices.\n",
        "\"\"\"\n",
        "\n",
        "question = \"What protocols does the Internet use to transfer data?\"\n",
        "\n",
        "ambiguity = ambiguity_score(question)\n",
        "similarity = semantic_similarity(context, question)\n",
        "\n",
        "ambiguity, similarity"
      ],
      "metadata": {
        "colab": {
          "base_uri": "https://localhost:8080/"
        },
        "id": "l0FvxSe1-uKS",
        "outputId": "96dde109-dfb0-4841-95fb-8578a97ec15c"
      },
      "execution_count": 86,
      "outputs": [
        {
          "output_type": "execute_result",
          "data": {
            "text/plain": [
              "(6.8, 0.6581790447235107)"
            ]
          },
          "metadata": {},
          "execution_count": 86
        }
      ]
    },
    {
      "cell_type": "code",
      "source": [
        "def difficulty_score(question, context, alpha=0.6, beta=0.4):\n",
        "    amb = ambiguity_score(question)\n",
        "    sim = semantic_similarity(question, context)\n",
        "    difficulty = alpha * amb + beta * (1 - sim)\n",
        "    return difficulty"
      ],
      "metadata": {
        "id": "6ztBVo4yBeZE"
      },
      "execution_count": 87,
      "outputs": []
    },
    {
      "cell_type": "code",
      "source": [
        "context = \"The Internet is a global network of computers that communicate using protocols like TCP/IP.\"\n",
        "question = \"What is the Internet?\"\n",
        "\n",
        "print(\"Scor dificultate:\", difficulty_score(question, context))"
      ],
      "metadata": {
        "colab": {
          "base_uri": "https://localhost:8080/"
        },
        "id": "6_IwgpmSBfGs",
        "outputId": "e4bb17d3-b386-450d-ccea-0baeef9c77b4"
      },
      "execution_count": 88,
      "outputs": [
        {
          "output_type": "stream",
          "name": "stdout",
          "text": [
            "Scor dificultate: 0.6920180797576905\n"
          ]
        }
      ]
    },
    {
      "cell_type": "code",
      "source": [
        "alpha = 0.6\n",
        "beta = 0.4\n",
        "\n",
        "for item in all_questions:\n",
        "\n",
        "  question = item[\"question\"]\n",
        "  context = item[\"context\"]\n",
        "\n",
        "  ambig = ambiguity_score(question)\n",
        "  sim_score = semantic_similarity(context, question)\n",
        "\n",
        "  item[\"ambiguity_score\"] = ambig\n",
        "  item[\"similarity_score\"] = sim_score"
      ],
      "metadata": {
        "id": "-yL9KHtHMZ1u"
      },
      "execution_count": 89,
      "outputs": []
    },
    {
      "cell_type": "code",
      "source": [
        "from sklearn.preprocessing import MinMaxScaler\n",
        "import numpy as np\n",
        "\n",
        "f1_scores = np.array([q[\"ambiguity_score\"] for q in all_questions]).reshape(-1, 1)\n",
        "f2_scores = np.array([q[\"similarity_score\"] for q in all_questions]).reshape(-1, 1)\n",
        "\n",
        "scaler = MinMaxScaler()\n",
        "\n",
        "f1_scaled = scaler.fit_transform(f1_scores).flatten()\n",
        "f2_scaled = scaler.fit_transform(f2_scores).flatten()"
      ],
      "metadata": {
        "id": "u0c0j9xn8Pfy"
      },
      "execution_count": 90,
      "outputs": []
    },
    {
      "cell_type": "code",
      "source": [
        "for i, q in enumerate(all_questions):\n",
        "\n",
        "    score = alpha * f1_scaled[i] + beta * (1 - f2_scaled[i])\n",
        "    q[\"difficulty\"] = score\n",
        "\n",
        "print(all_questions[0])"
      ],
      "metadata": {
        "colab": {
          "base_uri": "https://localhost:8080/"
        },
        "id": "oSL7IxDr8TBl",
        "outputId": "394e40c5-3965-402e-9d2a-942e54328ab9"
      },
      "execution_count": 91,
      "outputs": [
        {
          "output_type": "stream",
          "name": "stdout",
          "text": [
            "{'context': 'In this book, we’ll use the public Internet, a specific computer network, as our principal\\nvehicle for discussing computer networks and their protocols. But what is the\\nInternet?', 'question': 'What is the name of the computer network discussed in this book?', 'ambiguity_score': 8.0, 'similarity_score': 0.6202012300491333, 'difficulty': np.float64(0.24424208961001764)}\n"
          ]
        }
      ]
    },
    {
      "cell_type": "markdown",
      "source": [
        "### Alegere dificultate întrebări"
      ],
      "metadata": {
        "id": "sjlFo03FU9TE"
      }
    },
    {
      "cell_type": "code",
      "source": [
        "import pandas as pd\n",
        "\n",
        "df = pd.DataFrame(all_questions)"
      ],
      "metadata": {
        "id": "K1pWcipRU8-p"
      },
      "execution_count": 92,
      "outputs": []
    },
    {
      "cell_type": "code",
      "source": [
        "import matplotlib.pyplot as plt\n",
        "import seaborn as sns\n",
        "\n",
        "plt.figure(figsize=(7.2, 3.5))\n",
        "sns.histplot(data=df, x=\"difficulty\", bins=30, alpha=0.6)\n",
        "plt.title(\"Histogramă după dificultate\")\n",
        "plt.xlabel('Scorul de dificultate')\n",
        "plt.ylabel('Numărul de întrebări')\n",
        "plt.grid(True, linestyle='--', alpha=0.6)\n",
        "plt.tight_layout()\n",
        "plt.show()"
      ],
      "metadata": {
        "colab": {
          "base_uri": "https://localhost:8080/",
          "height": 357
        },
        "id": "yiiaxjs7NrlA",
        "outputId": "ace5f1f5-9b7f-4282-ebee-ddb22bdb9e70"
      },
      "execution_count": 93,
      "outputs": [
        {
          "output_type": "display_data",
          "data": {
            "text/plain": [
              "<Figure size 720x350 with 1 Axes>"
            ],
            "image/png": "[encoded data removed]"
          },
          "metadata": {}
        }
      ]
    },
    {
      "cell_type": "code",
      "source": [
        "# ce este peste 5 e greu\n",
        "# ce este intre 2 si 5 e mediu\n",
        "# restul sunt usoare\n",
        "\n",
        "def classify_difficulty(score):\n",
        "    if score < 0.25:\n",
        "        return \"easy\"\n",
        "    elif score < 0.38:\n",
        "        return \"medium\"\n",
        "    else:\n",
        "        return \"hard\"\n",
        "\n",
        "num_questions = 25"
      ],
      "metadata": {
        "id": "_3cvQyXcVg17"
      },
      "execution_count": 94,
      "outputs": []
    },
    {
      "cell_type": "code",
      "source": [
        "import numpy as np\n",
        "\n",
        "# daca nu vreau sa aleg empiric pragurile pentru intrebari\n",
        "# alegem in functie de distributie astfel, 15% intrebari\n",
        "# vor fi cele dificile, 35% cele medii si restul de 50% sunt\n",
        "# cele usoare\n",
        "\n",
        "# extragere scoruri\n",
        "scores = np.array([q[\"difficulty\"] for q in all_questions])\n",
        "\n",
        "# calcul procentaj\n",
        "p50 = np.percentile(scores, 50)\n",
        "p85 = np.percentile(scores, 85)\n",
        "\n",
        "def classify_difficulty_non_empiric(score):\n",
        "  if score < p50:\n",
        "    return \"easy\"\n",
        "  elif score < p85:\n",
        "    return \"medium\"\n",
        "  else:\n",
        "    return \"hard\"\n"
      ],
      "metadata": {
        "id": "chj2IzoYLh35"
      },
      "execution_count": 95,
      "outputs": []
    },
    {
      "cell_type": "code",
      "source": [
        "print(p50)\n",
        "print(p85)"
      ],
      "metadata": {
        "colab": {
          "base_uri": "https://localhost:8080/"
        },
        "id": "DcVPQAprSwjz",
        "outputId": "9afca273-73a3-4043-83e0-4e31e06c2d5b"
      },
      "execution_count": 96,
      "outputs": [
        {
          "output_type": "stream",
          "name": "stdout",
          "text": [
            "0.2202993347079203\n",
            "0.35963546371348165\n"
          ]
        }
      ]
    },
    {
      "cell_type": "code",
      "source": [
        "def normalize(value, min_val, max_val):\n",
        "    # evita divizarea la zero\n",
        "    if max_val == min_val:\n",
        "        return 0.0\n",
        "    return (value - min_val) / (max_val - min_val)"
      ],
      "metadata": {
        "id": "mLdImqqlH9bU"
      },
      "execution_count": 97,
      "outputs": []
    },
    {
      "cell_type": "code",
      "source": [
        "difficulty_to_be = \"medium\"\n",
        "filtered_questions = []\n",
        "\n",
        "ambig_min = float('inf')\n",
        "ambig_max = float('-inf')\n",
        "sim_min = float('inf')\n",
        "sim_max = float('-inf')\n",
        "\n",
        "while len(filtered_questions) < num_questions:\n",
        "\n",
        "  for chunk in chunks:\n",
        "\n",
        "    input_text = \"generate questions: \" + chunk\n",
        "    input_ids = tokenizer.encode(input_text, return_tensors=\"pt\", truncation=True)\n",
        "\n",
        "    output_ids = model.generate(\n",
        "        input_ids=input_ids,\n",
        "        max_length=256,\n",
        "        num_beams=4,\n",
        "        length_penalty=1.5,\n",
        "        no_repeat_ngram_size=3,\n",
        "        early_stopping=True\n",
        "    )\n",
        "\n",
        "    decoded = tokenizer.decode(output_ids[0], skip_special_tokens=True)\n",
        "    questions = decoded.split(\"<sep>\") if \"<sep>\" in decoded else [decoded]\n",
        "\n",
        "    for item in questions:\n",
        "\n",
        "      question = item.strip()\n",
        "      # ignora intrebarile goale\n",
        "      if not question:\n",
        "        continue\n",
        "      context = chunk\n",
        "\n",
        "      ambig = ambiguity_score(question)\n",
        "      sim_score = semantic_similarity(context, question)\n",
        "\n",
        "      # normalizare\n",
        "      ambig_min = min(ambig_min, ambig)\n",
        "      ambig_max = max(ambig_max, ambig)\n",
        "      sim_min = min(sim_min, sim_score)\n",
        "      sim_max = max(sim_max, sim_score)\n",
        "\n",
        "      scaled_ambig = normalize(ambig, ambig_min, ambig_max)\n",
        "      scaled_sim = normalize(sim_score, sim_min, sim_max)\n",
        "\n",
        "      diff = alpha * scaled_ambig + beta * (1 - scaled_sim)\n",
        "\n",
        "      if classify_difficulty_non_empiric(diff) == difficulty_to_be:\n",
        "          filtered_questions.append({\n",
        "            \"context\": context,\n",
        "            \"question\": question,\n",
        "            \"difficulty\": diff\n",
        "        })\n",
        "\n",
        "      if len(filtered_questions) > num_questions:\n",
        "        break"
      ],
      "metadata": {
        "id": "f_hVLcekWQQl"
      },
      "execution_count": 98,
      "outputs": []
    },
    {
      "cell_type": "code",
      "source": [
        "for iter in range(len(filtered_questions)):\n",
        "\n",
        "  print(filtered_questions[iter])"
      ],
      "metadata": {
        "colab": {
          "base_uri": "https://localhost:8080/"
        },
        "id": "NdCFLJ5IaeUe",
        "outputId": "f033a7b7-53c4-461f-b320-ed4dc68e3158"
      },
      "execution_count": 99,
      "outputs": [
        {
          "output_type": "stream",
          "name": "stdout",
          "text": [
            "{'context': 'Increasingly,\\nhowever, nontraditional Internet end systems such as laptops, smartphones, tablets,\\nTVs, gaming consoles, Web cams, automobiles, environmental sensing devices,\\npicture frames, and home electrical and security systems are being connected to the\\nInternet. Indeed, the term computer network is beginning to sound a bit dated, given\\nthe many nontraditional devices that are being hooked up to the Internet.', 'question': 'Laptops, smartphones, tablets, TVs, gaming consoles, Web cams, automobiles, environmental sensing devices, picture frames, and home electrical and security systems are being connected to what?', 'difficulty': 0.33632478599574545}\n",
            "{'context': 'Overall, more there are an estimated 2 billion Internet users [ITU 2011]. End systems are connected together by a network of communication links and\\npacket switches.', 'question': 'What is the estimated number of Internet users?', 'difficulty': 0.3412926758189792}\n",
            "{'context': 'When one end system has data to send to another end system, the sending end system\\nsegments the data and adds header bytes to each segment. The resulting packages\\nof information, known as packets in the jargon of computer networks, are then\\nsent through the network to the destination end system, where they are reassembled\\ninto the original data.', 'question': 'What does the sending end system add to each segment of data?', 'difficulty': 0.33815028901734095}\n",
            "{'context': 'When one end system has data to send to another end system, the sending end system\\nsegments the data and adds header bytes to each segment. The resulting packages\\nof information, known as packets in the jargon of computer networks, are then\\nsent through the network to the destination end system, where they are reassembled\\ninto the original data.', 'question': 'Where are the packets reassembled?', 'difficulty': 0.35264887947482443}\n",
            "{'context': 'A packet switch takes a packet arriving on one of its incoming communication\\nlinks and forwards that packet on one of its outgoing communication links. Packet\\nswitches come in many shapes and flavors, but the two most prominent types in\\ntoday’s Internet are routers and link-layer switches.', 'question': \"What are the two most prominent types of packet switches in today's Internet?\", 'difficulty': 0.22280499735644343}\n",
            "{'context': 'Both types of switches forward\\npackets toward their ultimate destinations. Link-layer switches are typically\\nused in access networks, while routers are typically used in the network core.', 'question': 'Link-layer switches are typically used in what type of network?', 'difficulty': 0.3115587773379377}\n",
            "{'context': 'Packet-switched networks (which transport packets) are in many ways similar\\nto transportation networks of highways, roads, and intersections (which transport\\nvehicles). Consider, for example, a factory that needs to move a large\\namount of cargo to some destination warehouse located thousands of kilometers\\naway.', 'question': 'What are packetet-switched networks similar to?', 'difficulty': 0.23905193248505846}\n",
            "{'context': 'At the factory, the cargo is segmented and loaded into a fleet of trucks. Each of the trucks then independently travels through the network of highways,\\nroads, and intersections to the destination warehouse.', 'question': 'What is the name of the fleet of trucks that transport cargo at the factory?', 'difficulty': 0.2783996834592015}\n",
            "{'context': 'At the destination warehouse,\\nthe cargo is unloaded and grouped with the rest of the cargo arriving from\\nthe same shipment. Thus, in many ways, packets are analogous to trucks, communication\\nlinks are analogous to highways and roads, packet switches are analogous\\nto intersections, and end systems are analogous to buildings.', 'question': 'Where is the cargo unloaded and grouped with the rest of the cargo arriving from the same shipment?', 'difficulty': 0.3301688409937585}\n",
            "{'context': 'At the destination warehouse,\\nthe cargo is unloaded and grouped with the rest of the cargo arriving from\\nthe same shipment. Thus, in many ways, packets are analogous to trucks, communication\\nlinks are analogous to highways and roads, packet switches are analogous\\nto intersections, and end systems are analogous to buildings.', 'question': 'In many ways, packets are analogous to what?', 'difficulty': 0.2949677897707949}\n",
            "{'context': 'Just as a truck\\ntakes a path through the transportation network, a packet takes a path through a\\ncomputer network. End systems access the Internet through Internet Service Providers (ISPs),\\nincluding residential ISPs such as local cable or telephone companies; corporate\\nISPs; university ISPs; and ISPs that provide WiFi access in airports, hotels, coffee\\nshops, and other public places.', 'question': 'How do end systems access the internet?', 'difficulty': 0.2674232990880301}\n",
            "{'context': 'Each ISP is in itself a network of packet switches\\nand communication links. ISPs provide a variety of types of network access to the\\nend systems, including residential broadband access such as cable modem or DSL,\\nhigh-speed local area network access, wireless access, and 56 kbps dial-up modem\\naccess.', 'question': 'What types of access do ISPs provide to the end systems?', 'difficulty': 0.2750009254054168}\n",
            "{'context': 'ISPs also provide Internet access to content providers, connecting Web\\nsites directly to the Internet. The Internet is all about connecting end systems to\\neach other, so the ISPs that provide access to end systems must also be interconnected.', 'question': 'What do ISPs connect to content providers?', 'difficulty': 0.2447230317849018}\n",
            "{'context': 'ISPs also provide Internet access to content providers, connecting Web\\nsites directly to the Internet. The Internet is all about connecting end systems to\\neach other, so the ISPs that provide access to end systems must also be interconnected.', 'question': 'What is the Internet all about connecting to each other?', 'difficulty': 0.30233497053136665}\n",
            "{'context': 'Each ISP network, whether upper-tier or lower-tier, is managed\\nindependently, runs the IP protocol (see below), and conforms to certain naming\\nand address conventions. We’ll examine ISPs and their interconnection more\\nclosely in Section 1.3.', 'question': 'In Section 1.3, how will we examine ISPs and their interconnection?', 'difficulty': 0.23828694434921877}\n",
            "{'context': 'End systems, packet switches, and other pieces of the Internet run protocols\\nthat control the sending and receiving of information within the Internet. The\\nTransmission Control Protocol (TCP) and the Internet Protocol (IP) are two of\\nthe most important protocols in the Internet.', 'question': 'What do end systems, packet switches and other pieces of the internet run?', 'difficulty': 0.24418083556445966}\n",
            "{'context': 'The IP protocol specifies the format of\\nthe packets that are sent and received among routers and end systems. The Internet’s\\nprincipal protocols are collectively known as TCP/IP.', 'question': 'What specifies the format of the packets that are sent and received among routers and end systems?', 'difficulty': 0.24761293523492006}\n",
            "{'context': 'Internet standards\\nare developed by the Internet Engineering Task Force (IETF)[IETF 2012]. The IETF standards documents are called requests for comments (RFCs).', 'question': 'What are the IETF standards documents called?', 'difficulty': 0.22527854420830876}\n",
            "{'context': 'RFCs\\nstarted out as general requests for comments (hence the name) to resolve network\\nand protocol design problems that faced the precursor to the Internet [Allman 2011]. RFCs tend to be quite technical and detailed.', 'question': 'What did RFCs start out as?', 'difficulty': 0.2987539547988178}\n",
            "{'context': 'These applications\\ninclude electronic mail, Web surfing, social networks, instant messaging, Voiceover-\\nIP (VoIP), video streaming, distributed games, peer-to-peer (P2P) file sharing,\\ntelevision over the Internet, remote login, and much, much more. The\\napplications are said to be distributed applications, since they involve multiple\\nend systems that exchange data with each other.', 'question': 'What is the acronym for Voiceover- IP?', 'difficulty': 0.2767852120810237}\n",
            "{'context': 'These applications\\ninclude electronic mail, Web surfing, social networks, instant messaging, Voiceover-\\nIP (VoIP), video streaming, distributed games, peer-to-peer (P2P) file sharing,\\ntelevision over the Internet, remote login, and much, much more. The\\napplications are said to be distributed applications, since they involve multiple\\nend systems that exchange data with each other.', 'question': 'What is another name for peer-to-peer file sharing?', 'difficulty': 0.30907998430845374}\n",
            "{'context': 'Importantly, Internet applications\\nrun on end systems—they do not run in the packet switches in the network core. Although packet switches facilitate the exchange of data among end systems, they\\nare not concerned with the application that is the source or sink of data.', 'question': 'What facilitates the exchange of data among end systems?', 'difficulty': 0.34395882807921996}\n",
            "{'context': 'You\\nmight, for example, write your programs in Java, C, or Python. Now, because you\\nare developing a distributed Internet application, the programs running on the\\ndifferent end systems will need to send data to each other.', 'question': 'Java, C, or Python are examples of languages that you might write your programs in.', 'difficulty': 0.24117983129986037}\n",
            "{'context': 'Suppose\\nAlice wants to send a letter to Bob using the postal service. Alice, of course,\\ncan’t just write the letter (the data) and drop the letter out her window.', 'question': 'Alice can’t just write the letter and drop it out of what?', 'difficulty': 0.3280351788287921}\n",
            "{'context': 'Instead,\\nthe postal service requires that Alice put the letter in an envelope; write Bob’s\\nfull name, address, and zip code in the center of the envelope; seal the envelope;\\nput a stamp in the upper-right-hand corner of the envelope; and finally, drop the\\nenvelope into an official postal service mailbox. Thus, the postal service has its\\nown “postal service API,” or set of rules, that Alice must follow to have the\\npostal service deliver her letter to Bob.', 'question': 'What does the postal service have its own set of rules for?', 'difficulty': 0.3509103919441046}\n",
            "{'context': 'A different response to the initial\\n“Hi” (such as “Don’t bother me!” or “I don’t speak English,” or some unprintable\\nreply) might indicate an unwillingness or inability to communicate. In this case,\\nthe human protocol would be not to ask for the time of day.', 'question': 'What might indicate an unwillingness or inability to communicate?', 'difficulty': 0.27171009320954376}\n",
            "{'context': 'Clearly, transmitted\\nand received messages, and actions taken when these messages are sent or\\nreceived or other events occur, play a central role in a human protocol. If people\\nrun different protocols (for example, if one person has manners but the other does\\nnot, or if one understands the concept of time and the other does not) the protocols\\ndo not interoperate and no useful work can be accomplished.', 'question': 'What plays a central role in a human protocol?', 'difficulty': 0.23462198149293803}\n",
            "{'context': 'Suppose you’re in a college class (a\\ncomputer networking class, for example!). The teacher is droning on about protocols\\nand you’re confused.', 'question': 'What type of class is a computer networking class?', 'difficulty': 0.22222246790490668}\n"
          ]
        }
      ]
    }
  ],
  "metadata": {
    "kernelspec": {
      "display_name": "Python 3",
      "language": "python",
      "name": "python3"
    },
    "language_info": {
      "name": "python",
      "version": "3.13.5"
    },
    "colab": {
      "provenance": []
    }
  },
  "nbformat": 4,
  "nbformat_minor": 0
}