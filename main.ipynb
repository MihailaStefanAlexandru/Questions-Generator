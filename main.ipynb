{
  "cells": [
    {
      "cell_type": "markdown",
      "metadata": {
        "id": "J9ucbwk7Yu4G"
      },
      "source": [
        "# Generator de întrebări în funcție de dificultate"
      ]
    },
    {
      "cell_type": "markdown",
      "source": [
        "### Biblioteci"
      ],
      "metadata": {
        "id": "hnZgcsU1Z42F"
      }
    },
    {
      "cell_type": "code",
      "execution_count": 49,
      "metadata": {
        "id": "_Q1ZSRRYYu4I"
      },
      "outputs": [],
      "source": [
        "# %pip install matplotlib\n",
        "# %pip install pandas\n",
        "# %pip install numpy\n",
        "# %pip install scipy\n",
        "# %pip install nltk\n",
        "# %pip install scikit-learn\n",
        "# %pip install seaborn\n",
        "# %pip install transformers"
      ]
    },
    {
      "cell_type": "markdown",
      "source": [
        "### Citire Date"
      ],
      "metadata": {
        "id": "5MhwMBCJZ9k6"
      }
    },
    {
      "cell_type": "code",
      "source": [
        "import pandas as pd\n",
        "\n",
        "with open(\"dataset.txt\", \"r\", encoding=\"utf-8\") as f:\n",
        "    lines = f.readlines()\n",
        "\n",
        "context_text = \"\".join(lines[1:]).strip()\n",
        "\n",
        "print(context_text)"
      ],
      "metadata": {
        "colab": {
          "base_uri": "https://localhost:8080/"
        },
        "collapsed": true,
        "id": "dU8PBngDaXKC",
        "outputId": "7590a4e2-f0cd-46b7-b692-01bbe089bf15"
      },
      "execution_count": 50,
      "outputs": [
        {
          "output_type": "stream",
          "name": "stdout",
          "text": [
            "In this book, we’ll use the public Internet, a specific computer network, as our principal\n",
            "vehicle for discussing computer networks and their protocols. But what is the\n",
            "Internet? There are a couple of ways to answer this question. First, we can describe\n",
            "the nuts and bolts of the Internet, that is, the basic hardware and software components\n",
            "that make up the Internet. Second, we can describe the Internet in terms of a networking\n",
            "infrastructure that provides services to distributed applications. Let’s begin\n",
            "with the nuts-and-bolts description, using Figure 1.1 to illustrate our discussion.\n",
            "The Internet is a computer network that interconnects hundreds of millions of computing\n",
            "devices throughout the world. Not too long ago, these computing devices were\n",
            "primarily traditional desktop PCs, Linux workstations, and so-called servers that store\n",
            "and transmit information such as Web pages and e-mail messages. Increasingly,\n",
            "however, nontraditional Internet end systems such as laptops, smartphones, tablets,\n",
            "TVs, gaming consoles, Web cams, automobiles, environmental sensing devices,\n",
            "picture frames, and home electrical and security systems are being connected to the\n",
            "Internet. Indeed, the term computer network is beginning to sound a bit dated, given\n",
            "the many nontraditional devices that are being hooked up to the Internet. In Internet jargon,\n",
            "all of these devices are called hosts or end systems. As of July 2011, there were\n",
            "nearly 850 million end systems attached to the Internet [ISC 2012], not counting\n",
            "smartphones, laptops, and other devices that are only intermittently connected to the\n",
            "Internet. Overall, more there are an estimated 2 billion Internet users [ITU 2011].\n",
            "End systems are connected together by a network of communication links and\n",
            "packet switches. We’ll see in Section 1.2 that there are many types of communication\n",
            "links, which are made up of different types of physical media, including coaxial\n",
            "cable, copper wire, optical fiber, and radio spectrum. Different links can transmit\n",
            "data at different rates, with the transmission rate of a link measured in bits/second.\n",
            "When one end system has data to send to another end system, the sending end system\n",
            "segments the data and adds header bytes to each segment. The resulting packages\n",
            "of information, known as packets in the jargon of computer networks, are then\n",
            "sent through the network to the destination end system, where they are reassembled\n",
            "into the original data.\n",
            "A packet switch takes a packet arriving on one of its incoming communication\n",
            "links and forwards that packet on one of its outgoing communication links. Packet\n",
            "switches come in many shapes and flavors, but the two most prominent types in\n",
            "today’s Internet are routers and link-layer switches. Both types of switches forward\n",
            "packets toward their ultimate destinations. Link-layer switches are typically\n",
            "used in access networks, while routers are typically used in the network core. The\n",
            "sequence of communication links and packet switches traversed by a packet from\n",
            "the sending end system to the receiving end system is known as a route or path\n",
            "through the network. The exact amount of traffic being carried in the Internet is\n",
            "difficult to estimate but Cisco [Cisco VNI 2011] estimates global Internet traffic will\n",
            "be nearly 40 exabytes per month in 2012.\n",
            "Packet-switched networks (which transport packets) are in many ways similar\n",
            "to transportation networks of highways, roads, and intersections (which transport\n",
            "vehicles). Consider, for example, a factory that needs to move a large\n",
            "amount of cargo to some destination warehouse located thousands of kilometers\n",
            "away. At the factory, the cargo is segmented and loaded into a fleet of trucks.\n",
            "Each of the trucks then independently travels through the network of highways,\n",
            "roads, and intersections to the destination warehouse. At the destination warehouse,\n",
            "the cargo is unloaded and grouped with the rest of the cargo arriving from\n",
            "the same shipment. Thus, in many ways, packets are analogous to trucks, communication\n",
            "links are analogous to highways and roads, packet switches are analogous\n",
            "to intersections, and end systems are analogous to buildings. Just as a truck\n",
            "takes a path through the transportation network, a packet takes a path through a\n",
            "computer network.\n",
            "End systems access the Internet through Internet Service Providers (ISPs),\n",
            "including residential ISPs such as local cable or telephone companies; corporate\n",
            "ISPs; university ISPs; and ISPs that provide WiFi access in airports, hotels, coffee\n",
            "shops, and other public places. Each ISP is in itself a network of packet switches\n",
            "and communication links. ISPs provide a variety of types of network access to the\n",
            "end systems, including residential broadband access such as cable modem or DSL,\n",
            "high-speed local area network access, wireless access, and 56 kbps dial-up modem\n",
            "access. ISPs also provide Internet access to content providers, connecting Web\n",
            "sites directly to the Internet. The Internet is all about connecting end systems to\n",
            "each other, so the ISPs that provide access to end systems must also be interconnected.\n",
            "These lower-tier ISPs are interconnected through national and international\n",
            "upper-tier ISPs such as Level 3 Communications, AT&T, Sprint, and NTT.\n",
            "An upper-tier ISP consists of high-speed routers interconnected with high-speed\n",
            "fiber-optic links. Each ISP network, whether upper-tier or lower-tier, is managed\n",
            "independently, runs the IP protocol (see below), and conforms to certain naming\n",
            "and address conventions. We’ll examine ISPs and their interconnection more\n",
            "closely in Section 1.3.\n",
            "End systems, packet switches, and other pieces of the Internet run protocols\n",
            "that control the sending and receiving of information within the Internet. The\n",
            "Transmission Control Protocol (TCP) and the Internet Protocol (IP) are two of\n",
            "the most important protocols in the Internet. The IP protocol specifies the format of\n",
            "the packets that are sent and received among routers and end systems. The Internet’s\n",
            "principal protocols are collectively known as TCP/IP. We’ll begin looking into protocols\n",
            "in this introductory chapter. But that’s just a start—much of this book is concerned\n",
            "with computer network protocols!\n",
            "Given the importance of protocols to the Internet, it’s important that everyone\n",
            "agree on what each and every protocol does, so that people can create systems and\n",
            "products that interoperate. This is where standards come into play. Internet standards\n",
            "are developed by the Internet Engineering Task Force (IETF)[IETF 2012].\n",
            "The IETF standards documents are called requests for comments (RFCs). RFCs\n",
            "started out as general requests for comments (hence the name) to resolve network\n",
            "and protocol design problems that faced the precursor to the Internet [Allman 2011].\n",
            "RFCs tend to be quite technical and detailed. They define protocols such as TCP, IP,\n",
            "HTTP (for the Web), and SMTP (for e-mail). There are currently more than 6,000\n",
            "RFCs. Other bodies also specify standards for network components, most notably\n",
            "for network links. The IEEE 802 LAN/MAN Standards Committee [IEEE 802\n",
            "2012], for example, specifies the Ethernet and wireless WiFi standards.\n"
          ]
        }
      ]
    },
    {
      "cell_type": "code",
      "source": [
        "print(type(context_text))"
      ],
      "metadata": {
        "colab": {
          "base_uri": "https://localhost:8080/"
        },
        "id": "FrDqSAfXiaEH",
        "outputId": "68484bb2-1a4c-45e7-e0a0-f9f745eb48e1"
      },
      "execution_count": 51,
      "outputs": [
        {
          "output_type": "stream",
          "name": "stdout",
          "text": [
            "<class 'str'>\n"
          ]
        }
      ]
    },
    {
      "cell_type": "markdown",
      "source": [
        "### Generare Întrebări"
      ],
      "metadata": {
        "id": "ToBwErLhcSTA"
      }
    },
    {
      "cell_type": "code",
      "source": [
        "from transformers import T5ForConditionalGeneration, T5Tokenizer\n",
        "import torch\n",
        "\n",
        "model_name = \"valhalla/t5-base-e2e-qg\"\n",
        "tokenizer = T5Tokenizer.from_pretrained(model_name)\n",
        "model = T5ForConditionalGeneration.from_pretrained(model_name)"
      ],
      "metadata": {
        "id": "Q1lIPzzLcXdX"
      },
      "execution_count": 52,
      "outputs": []
    },
    {
      "cell_type": "code",
      "source": [
        "import nltk\n",
        "from nltk.tokenize import sent_tokenize\n",
        "\n",
        "nltk.download('punkt')\n",
        "nltk.download('punkt_tab')"
      ],
      "metadata": {
        "colab": {
          "base_uri": "https://localhost:8080/"
        },
        "id": "Sd8K8cv-u6z5",
        "outputId": "5e19c2d4-6e44-4e23-f49c-71aa67461a30"
      },
      "execution_count": 53,
      "outputs": [
        {
          "output_type": "stream",
          "name": "stderr",
          "text": [
            "[nltk_data] Downloading package punkt to /root/nltk_data...\n",
            "[nltk_data]   Package punkt is already up-to-date!\n",
            "[nltk_data] Downloading package punkt_tab to /root/nltk_data...\n",
            "[nltk_data]   Package punkt_tab is already up-to-date!\n"
          ]
        },
        {
          "output_type": "execute_result",
          "data": {
            "text/plain": [
              "True"
            ]
          },
          "metadata": {},
          "execution_count": 53
        }
      ]
    },
    {
      "cell_type": "code",
      "source": [
        "sentences = sent_tokenize(context_text)\n",
        "\n",
        "chunk_size = 2\n",
        "chunks = [\" \".join(sentences[i:i + chunk_size]) for i in range(0, len(sentences), chunk_size)]\n",
        "\n",
        "all_questions = []\n",
        "\n",
        "for idx, chunk in enumerate(chunks, 1):\n",
        "\n",
        "    input_text = \"generate questions: \" + chunk\n",
        "    input_ids = tokenizer.encode(input_text, return_tensors=\"pt\", truncation=True)\n",
        "\n",
        "    output_ids = model.generate(\n",
        "        input_ids=input_ids,\n",
        "        max_length=256,\n",
        "        num_beams=4,\n",
        "        length_penalty=1.5,\n",
        "        no_repeat_ngram_size=3,\n",
        "        early_stopping=True\n",
        "    )\n",
        "\n",
        "    decoded = tokenizer.decode(output_ids[0], skip_special_tokens=True)\n",
        "    questions = decoded.split(\"<sep>\") if \"<sep>\" in decoded else [decoded]\n",
        "\n",
        "    for q in questions:\n",
        "      all_questions.append({\n",
        "          \"context\": chunk,\n",
        "          \"question\": q.strip()\n",
        "      })"
      ],
      "metadata": {
        "id": "yb_eoLohc-Xt"
      },
      "execution_count": 54,
      "outputs": []
    },
    {
      "cell_type": "code",
      "source": [
        "print(\"\\nTotal întrebări generate:\", len(all_questions))\n",
        "print(\"\\nExemplu:\")\n",
        "print(all_questions[0])"
      ],
      "metadata": {
        "colab": {
          "base_uri": "https://localhost:8080/"
        },
        "id": "3lndHOGQwunF",
        "outputId": "fe32859e-89eb-49f4-88e4-63d18c5d6354"
      },
      "execution_count": 55,
      "outputs": [
        {
          "output_type": "stream",
          "name": "stdout",
          "text": [
            "\n",
            "Total întrebări generate: 89\n",
            "\n",
            "Exemplu:\n",
            "{'context': 'In this book, we’ll use the public Internet, a specific computer network, as our principal\\nvehicle for discussing computer networks and their protocols. But what is the\\nInternet?', 'question': 'What is the name of the computer network discussed in this book?'}\n"
          ]
        }
      ]
    },
    {
      "cell_type": "markdown",
      "source": [
        "### Euristică"
      ],
      "metadata": {
        "id": "xzgbeL09BhQe"
      }
    },
    {
      "cell_type": "code",
      "source": [
        "from nltk.corpus import stopwords, wordnet as wn\n",
        "from sentence_transformers import SentenceTransformer, util\n",
        "import nltk\n",
        "from nltk.tokenize import word_tokenize\n",
        "import string\n",
        "\n",
        "nltk.download('wordnet')"
      ],
      "metadata": {
        "colab": {
          "base_uri": "https://localhost:8080/"
        },
        "id": "47o9Ohes-DMr",
        "outputId": "db4f64cb-7e58-419b-9042-410fe330ecc5"
      },
      "execution_count": 56,
      "outputs": [
        {
          "output_type": "stream",
          "name": "stderr",
          "text": [
            "[nltk_data] Downloading package wordnet to /root/nltk_data...\n",
            "[nltk_data]   Package wordnet is already up-to-date!\n"
          ]
        },
        {
          "output_type": "execute_result",
          "data": {
            "text/plain": [
              "True"
            ]
          },
          "metadata": {},
          "execution_count": 56
        }
      ]
    },
    {
      "cell_type": "code",
      "source": [
        "heuristic_model = SentenceTransformer('all-MiniLM-L6-v2')\n",
        "\n",
        "def ambiguity_score(question):\n",
        "    stop_words = set(stopwords.words('english'))\n",
        "    tokens = word_tokenize(question.lower())\n",
        "\n",
        "    # eliminare semne de punctuatie si stopwords\n",
        "    filtered_tokens = [\n",
        "        t for t in tokens\n",
        "        if t not in stop_words and t not in string.punctuation\n",
        "    ]\n",
        "\n",
        "    # calculam numarul de sensuri pentru fiecare cuvant valid\n",
        "    senses = [len(wn.synsets(t)) for t in filtered_tokens if wn.synsets(t)]\n",
        "\n",
        "    if senses:\n",
        "        avg_senses = sum(senses) / len(senses)\n",
        "    else:\n",
        "        # caz in care nu exista cuvinte semnificative\n",
        "        avg_senses = 0\n",
        "\n",
        "    return avg_senses"
      ],
      "metadata": {
        "id": "2uRtHzGm-J4t"
      },
      "execution_count": 57,
      "outputs": []
    },
    {
      "cell_type": "code",
      "source": [
        "def semantic_similarity(context, question):\n",
        "\n",
        "    embeddings = heuristic_model.encode([context, question], convert_to_tensor=True)\n",
        "    score = util.cos_sim(embeddings[0], embeddings[1])\n",
        "    return float(score)"
      ],
      "metadata": {
        "id": "-muswd3o-PJ2"
      },
      "execution_count": 58,
      "outputs": []
    },
    {
      "cell_type": "code",
      "source": [
        "context = \"\"\"\n",
        "The Internet is a computer network that interconnects millions of computing devices throughout the world. These devices include not just traditional PCs, but also smartphones, tablets, TVs, and even home appliances. End systems are connected by communication links and packet switches. The Internet uses protocols like TCP and IP to transfer information between devices.\n",
        "\"\"\"\n",
        "\n",
        "question = \"What protocols does the Internet use to transfer data?\"\n",
        "\n",
        "ambiguity = ambiguity_score(question)\n",
        "similarity = semantic_similarity(context, question)\n",
        "\n",
        "ambiguity, similarity"
      ],
      "metadata": {
        "colab": {
          "base_uri": "https://localhost:8080/"
        },
        "id": "l0FvxSe1-uKS",
        "outputId": "be2ddd9e-2194-4408-ffe4-0338bb02e09f"
      },
      "execution_count": 59,
      "outputs": [
        {
          "output_type": "execute_result",
          "data": {
            "text/plain": [
              "(6.8, 0.6581790447235107)"
            ]
          },
          "metadata": {},
          "execution_count": 59
        }
      ]
    },
    {
      "cell_type": "code",
      "source": [
        "def difficulty_score(question, context, alpha=0.6, beta=0.4):\n",
        "    amb = ambiguity_score(question)\n",
        "    sim = semantic_similarity(question, context)\n",
        "    difficulty = alpha * amb + beta * (1 - sim)\n",
        "    return difficulty"
      ],
      "metadata": {
        "id": "6ztBVo4yBeZE"
      },
      "execution_count": 60,
      "outputs": []
    },
    {
      "cell_type": "code",
      "source": [
        "context = \"The Internet is a global network of computers that communicate using protocols like TCP/IP.\"\n",
        "question = \"What is the Internet?\"\n",
        "\n",
        "print(\"Scor dificultate:\", difficulty_score(question, context))"
      ],
      "metadata": {
        "colab": {
          "base_uri": "https://localhost:8080/"
        },
        "id": "6_IwgpmSBfGs",
        "outputId": "03cc64da-eb98-4f1b-9abb-d6e677acca6b"
      },
      "execution_count": 61,
      "outputs": [
        {
          "output_type": "stream",
          "name": "stdout",
          "text": [
            "Scor dificultate: 0.6920180797576905\n"
          ]
        }
      ]
    },
    {
      "cell_type": "code",
      "source": [
        "alpha = 0.6\n",
        "beta = 0.4\n",
        "\n",
        "for item in all_questions:\n",
        "\n",
        "  question = item[\"question\"]\n",
        "  context = item[\"context\"]\n",
        "\n",
        "  ambig = ambiguity_score(question)\n",
        "  sim_score = semantic_similarity(context, question)\n",
        "\n",
        "  diff = alpha * ambig + beta * (1 - sim_score)\n",
        "\n",
        "  item[\"ambiguity_score\"] = ambig\n",
        "  item[\"similarity_score\"] = sim_score\n",
        "  item[\"difficulty\"] = diff\n",
        "\n",
        "print(all_questions[0])"
      ],
      "metadata": {
        "colab": {
          "base_uri": "https://localhost:8080/"
        },
        "id": "-yL9KHtHMZ1u",
        "outputId": "9e0b658d-35ac-4131-cda2-bd28f3451a78"
      },
      "execution_count": 62,
      "outputs": [
        {
          "output_type": "stream",
          "name": "stdout",
          "text": [
            "{'context': 'In this book, we’ll use the public Internet, a specific computer network, as our principal\\nvehicle for discussing computer networks and their protocols. But what is the\\nInternet?', 'question': 'What is the name of the computer network discussed in this book?', 'ambiguity_score': 8.0, 'similarity_score': 0.6202012300491333, 'difficulty': 4.951919507980347}\n"
          ]
        }
      ]
    },
    {
      "cell_type": "markdown",
      "source": [
        "### Alegere dificultate întrebări"
      ],
      "metadata": {
        "id": "sjlFo03FU9TE"
      }
    },
    {
      "cell_type": "code",
      "source": [
        "import pandas as pd\n",
        "\n",
        "df = pd.DataFrame(all_questions)"
      ],
      "metadata": {
        "id": "K1pWcipRU8-p"
      },
      "execution_count": 63,
      "outputs": []
    },
    {
      "cell_type": "code",
      "source": [
        "import matplotlib.pyplot as plt\n",
        "import seaborn as sns\n",
        "\n",
        "plt.figure(figsize=(7.2, 3.5))\n",
        "sns.histplot(data=df, x=\"difficulty\", bins=30, alpha=0.6)\n",
        "plt.title(\"Histogramă după dificultate\")\n",
        "plt.xlabel('Scorul de dificultate')\n",
        "plt.ylabel('Numărul de întrebări')\n",
        "plt.grid(True, linestyle='--', alpha=0.6)\n",
        "plt.tight_layout()\n",
        "plt.show()"
      ],
      "metadata": {
        "colab": {
          "base_uri": "https://localhost:8080/",
          "height": 357
        },
        "id": "yiiaxjs7NrlA",
        "outputId": "131a37ab-0593-4917-9384-d2ba6ef6178d"
      },
      "execution_count": 64,
      "outputs": [
        {
          "output_type": "display_data",
          "data": {
            "text/plain": [
              "<Figure size 720x350 with 1 Axes>"
            ],
            "image/png": "[encoded data removed]"
          },
          "metadata": {}
        }
      ]
    },
    {
      "cell_type": "code",
      "source": [
        "# ce este peste 5 e greu\n",
        "# ce este intre 2 si 5 e mediu\n",
        "# restul sunt usoare\n",
        "\n",
        "def classify_difficulty(score):\n",
        "    if score < 2.0:\n",
        "        return \"easy\"\n",
        "    elif score < 5.0:\n",
        "        return \"medium\"\n",
        "    else:\n",
        "        return \"hard\"\n",
        "\n",
        "num_questions = 25"
      ],
      "metadata": {
        "id": "_3cvQyXcVg17"
      },
      "execution_count": 65,
      "outputs": []
    },
    {
      "cell_type": "code",
      "source": [
        "difficulty_to_be = \"medium\"\n",
        "filtered_questions = []\n",
        "\n",
        "while len(filtered_questions) < num_questions:\n",
        "\n",
        "  for chunk in chunks:\n",
        "\n",
        "    input_text = \"generate questions: \" + chunk\n",
        "    input_ids = tokenizer.encode(input_text, return_tensors=\"pt\", truncation=True)\n",
        "\n",
        "    output_ids = model.generate(\n",
        "        input_ids=input_ids,\n",
        "        max_length=256,\n",
        "        num_beams=4,\n",
        "        length_penalty=1.5,\n",
        "        no_repeat_ngram_size=3,\n",
        "        early_stopping=True\n",
        "    )\n",
        "\n",
        "    decoded = tokenizer.decode(output_ids[0], skip_special_tokens=True)\n",
        "    questions = decoded.split(\"<sep>\") if \"<sep>\" in decoded else [decoded]\n",
        "\n",
        "    for item in questions:\n",
        "\n",
        "      question = item.strip()\n",
        "      context = chunk\n",
        "\n",
        "      ambig = ambiguity_score(question)\n",
        "      sim_score = semantic_similarity(context, question)\n",
        "\n",
        "      diff = alpha * ambig + beta * (1 - sim_score)\n",
        "\n",
        "      if classify_difficulty(diff) == difficulty_to_be:\n",
        "          filtered_questions.append({\n",
        "            \"context\": chunk,\n",
        "            \"question\": question,\n",
        "            \"difficulty_score\": diff\n",
        "          })\n",
        "\n",
        "      if len(filtered_questions) > num_questions:\n",
        "        break"
      ],
      "metadata": {
        "id": "f_hVLcekWQQl"
      },
      "execution_count": 67,
      "outputs": []
    },
    {
      "cell_type": "code",
      "source": [
        "for iter in range(len(filtered_questions)):\n",
        "\n",
        "  print(filtered_questions[iter])"
      ],
      "metadata": {
        "colab": {
          "base_uri": "https://localhost:8080/"
        },
        "id": "NdCFLJ5IaeUe",
        "outputId": "e77d8687-a47d-46e6-bacb-43da2bdbc601"
      },
      "execution_count": 69,
      "outputs": [
        {
          "output_type": "stream",
          "name": "stdout",
          "text": [
            "{'context': 'In this book, we’ll use the public Internet, a specific computer network, as our principal\\nvehicle for discussing computer networks and their protocols. But what is the\\nInternet?', 'question': 'What is the name of the computer network discussed in this book?', 'difficulty_score': 4.951919507980347}\n",
            "{'context': 'There are a couple of ways to answer this question. First, we can describe\\nthe nuts and bolts of the Internet, that is, the basic hardware and software components\\nthat make up the Internet.', 'question': 'What are the nuts and bolts of the internet?', 'difficulty_score': 4.903491592407226}\n",
            "{'context': 'Second, we can describe the Internet in terms of a networking\\ninfrastructure that provides services to distributed applications. Let’s begin\\nwith the nuts-and-bolts description, using Figure 1.1 to illustrate our discussion.', 'question': 'What can we describe the Internet in terms of?', 'difficulty_score': 3.105325198173523}\n",
            "{'context': 'Second, we can describe the Internet in terms of a networking\\ninfrastructure that provides services to distributed applications. Let’s begin\\nwith the nuts-and-bolts description, using Figure 1.1 to illustrate our discussion.', 'question': 'What does the network provide?', 'difficulty_score': 4.097539734840393}\n",
            "{'context': 'The Internet is a computer network that interconnects hundreds of millions of computing\\ndevices throughout the world. Not too long ago, these computing devices were\\nprimarily traditional desktop PCs, Linux workstations, and so-called servers that store\\nand transmit information such as Web pages and e-mail messages.', 'question': 'What is a computer network that interconnects hundreds of millions of computing devices throughout the world?', 'difficulty_score': 2.343591833114624}\n",
            "{'context': 'The Internet is a computer network that interconnects hundreds of millions of computing\\ndevices throughout the world. Not too long ago, these computing devices were\\nprimarily traditional desktop PCs, Linux workstations, and so-called servers that store\\nand transmit information such as Web pages and e-mail messages.', 'question': 'What were computing devices primarily primarily?', 'difficulty_score': 2.1957643032073975}\n",
            "{'context': 'Increasingly,\\nhowever, nontraditional Internet end systems such as laptops, smartphones, tablets,\\nTVs, gaming consoles, Web cams, automobiles, environmental sensing devices,\\npicture frames, and home electrical and security systems are being connected to the\\nInternet. Indeed, the term computer network is beginning to sound a bit dated, given\\nthe many nontraditional devices that are being hooked up to the Internet.', 'question': 'Laptops, smartphones, tablets, TVs, gaming consoles, Web cams, automobiles, environmental sensing devices, picture frames, and home electrical and security systems are being connected to what?', 'difficulty_score': 4.2083926121393835}\n",
            "{'context': 'In Internet jargon,\\nall of these devices are called hosts or end systems. As of July 2011, there were\\nnearly 850 million end systems attached to the Internet [ISC 2012], not counting\\nsmartphones, laptops, and other devices that are only intermittently connected to the\\nInternet.', 'question': 'As of July 2011, how many end systems were attached to the Internet?', 'difficulty_score': 3.985483360290527}\n",
            "{'context': 'In Internet jargon,\\nall of these devices are called hosts or end systems. As of July 2011, there were\\nnearly 850 million end systems attached to the Internet [ISC 2012], not counting\\nsmartphones, laptops, and other devices that are only intermittently connected to the\\nInternet.', 'question': 'What are smartphones, laptops, and other devices only intermittently connected to?', 'difficulty_score': 3.781800770759582}\n",
            "{'context': 'Overall, more there are an estimated 2 billion Internet users [ITU 2011]. End systems are connected together by a network of communication links and\\npacket switches.', 'question': 'What is the estimated number of Internet users?', 'difficulty_score': 3.5871198415756225}\n",
            "{'context': 'When one end system has data to send to another end system, the sending end system\\nsegments the data and adds header bytes to each segment. The resulting packages\\nof information, known as packets in the jargon of computer networks, are then\\nsent through the network to the destination end system, where they are reassembled\\ninto the original data.', 'question': 'What does the sending end system add to each segment of data?', 'difficulty_score': 4.972473859786986}\n",
            "{'context': 'When one end system has data to send to another end system, the sending end system\\nsegments the data and adds header bytes to each segment. The resulting packages\\nof information, known as packets in the jargon of computer networks, are then\\nsent through the network to the destination end system, where they are reassembled\\ninto the original data.', 'question': 'What are the resulting packages of information known as?', 'difficulty_score': 3.7952095031738278}\n",
            "{'context': 'A packet switch takes a packet arriving on one of its incoming communication\\nlinks and forwards that packet on one of its outgoing communication links. Packet\\nswitches come in many shapes and flavors, but the two most prominent types in\\ntoday’s Internet are routers and link-layer switches.', 'question': \"What are the two most prominent types of packet switches in today's Internet?\", 'difficulty_score': 3.1763674906321935}\n",
            "{'context': 'Both types of switches forward\\npackets toward their ultimate destinations. Link-layer switches are typically\\nused in access networks, while routers are typically used in the network core.', 'question': 'Which type of switches forward packets toward their ultimate destinations?', 'difficulty_score': 4.537636685371399}\n",
            "{'context': 'Both types of switches forward\\npackets toward their ultimate destinations. Link-layer switches are typically\\nused in access networks, while routers are typically used in the network core.', 'question': 'Link-layer switches are typically used in what type of network?', 'difficulty_score': 4.633725128173828}\n",
            "{'context': 'Packet-switched networks (which transport packets) are in many ways similar\\nto transportation networks of highways, roads, and intersections (which transport\\nvehicles). Consider, for example, a factory that needs to move a large\\namount of cargo to some destination warehouse located thousands of kilometers\\naway.', 'question': 'What are packetet-switched networks similar to?', 'difficulty_score': 3.389642596244812}\n",
            "{'context': 'Packet-switched networks (which transport packets) are in many ways similar\\nto transportation networks of highways, roads, and intersections (which transport\\nvehicles). Consider, for example, a factory that needs to move a large\\namount of cargo to some destination warehouse located thousands of kilometers\\naway.', 'question': 'What transports vehicles?', 'difficulty_score': 4.744755673408508}\n",
            "{'context': 'Packet-switched networks (which transport packets) are in many ways similar\\nto transportation networks of highways, roads, and intersections (which transport\\nvehicles). Consider, for example, a factory that needs to move a large\\namount of cargo to some destination warehouse located thousands of kilometers\\naway.', 'question': 'How many kilometers away is a destination warehouse located?', 'difficulty_score': 2.892580366134643}\n",
            "{'context': 'At the factory, the cargo is segmented and loaded into a fleet of trucks. Each of the trucks then independently travels through the network of highways,\\nroads, and intersections to the destination warehouse.', 'question': 'What is the name of the fleet of trucks that transport cargo at the factory?', 'difficulty_score': 3.8920771598815915}\n",
            "{'context': 'At the destination warehouse,\\nthe cargo is unloaded and grouped with the rest of the cargo arriving from\\nthe same shipment. Thus, in many ways, packets are analogous to trucks, communication\\nlinks are analogous to highways and roads, packet switches are analogous\\nto intersections, and end systems are analogous to buildings.', 'question': 'Where is the cargo unloaded and grouped with the rest of the cargo arriving from the same shipment?', 'difficulty_score': 2.7506088597433904}\n",
            "{'context': 'At the destination warehouse,\\nthe cargo is unloaded and grouped with the rest of the cargo arriving from\\nthe same shipment. Thus, in many ways, packets are analogous to trucks, communication\\nlinks are analogous to highways and roads, packet switches are analogous\\nto intersections, and end systems are analogous to buildings.', 'question': 'In many ways, packets are analogous to what?', 'difficulty_score': 3.1393627882003785}\n",
            "{'context': 'At the destination warehouse,\\nthe cargo is unloaded and grouped with the rest of the cargo arriving from\\nthe same shipment. Thus, in many ways, packets are analogous to trucks, communication\\nlinks are analogous to highways and roads, packet switches are analogous\\nto intersections, and end systems are analogous to buildings.', 'question': 'What are communication links similar to?', 'difficulty_score': 4.604376482963562}\n",
            "{'context': 'Each ISP is in itself a network of packet switches\\nand communication links. ISPs provide a variety of types of network access to the\\nend systems, including residential broadband access such as cable modem or DSL,\\nhigh-speed local area network access, wireless access, and 56 kbps dial-up modem\\naccess.', 'question': 'What is an ISP in itself a network of?', 'difficulty_score': 3.7072178840637204}\n",
            "{'context': 'ISPs also provide Internet access to content providers, connecting Web\\nsites directly to the Internet. The Internet is all about connecting end systems to\\neach other, so the ISPs that provide access to end systems must also be interconnected.', 'question': 'What do ISPs connect to content providers?', 'difficulty_score': 4.718437051773071}\n",
            "{'context': 'ISPs also provide Internet access to content providers, connecting Web\\nsites directly to the Internet. The Internet is all about connecting end systems to\\neach other, so the ISPs that provide access to end systems must also be interconnected.', 'question': 'What is the Internet all about connecting to each other?', 'difficulty_score': 3.774777746200561}\n",
            "{'context': 'Each ISP network, whether upper-tier or lower-tier, is managed\\nindependently, runs the IP protocol (see below), and conforms to certain naming\\nand address conventions. We’ll examine ISPs and their interconnection more\\nclosely in Section 1.3.', 'question': 'How is each ISP network managed?', 'difficulty_score': 3.98570818901062}\n",
            "{'context': 'We’ll begin looking into protocols\\nin this introductory chapter. But that’s just a start—much of this book is concerned\\nwith computer network protocols!', 'question': 'In what chapter will we begin looking into protocols?', 'difficulty_score': 4.9199621915817255}\n",
            "{'context': 'Other bodies also specify standards for network components, most notably\\nfor network links. The IEEE 802 LAN/MAN Standards Committee [IEEE 802\\n2012], for example, specifies the Ethernet and wireless WiFi standards.', 'question': 'What does the IEEE 802 LAN/MAN Standards Committee specify?', 'difficulty_score': 3.0730221271514893}\n"
          ]
        }
      ]
    }
  ],
  "metadata": {
    "kernelspec": {
      "display_name": "Python 3",
      "language": "python",
      "name": "python3"
    },
    "language_info": {
      "name": "python",
      "version": "3.13.5"
    },
    "colab": {
      "provenance": []
    }
  },
  "nbformat": 4,
  "nbformat_minor": 0
}